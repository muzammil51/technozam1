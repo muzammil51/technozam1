{
 "cells": [
  {
   "cell_type": "code",
   "execution_count": 1,
   "metadata": {},
   "outputs": [],
   "source": [
    "from nltk import pos_tag, word_tokenize, sent_tokenize\n",
    "import nltk\n",
    "# nltk.download('punkt')\n",
    "# nltk.download('averaged_perceptron_tagger')\n",
    "import re\n",
    "import random\n",
    "from collections import defaultdict"
   ]
  },
  {
   "cell_type": "code",
   "execution_count": 2,
   "metadata": {},
   "outputs": [],
   "source": [
    "'''\n",
    "function to clean the input paragraph or paragraphs and returning sentense_wise tagged words\n",
    "cleaning has to be done as '[' , ']' , '@'.. are tagged as nouns. and this program is to build blanks with nouns only\n",
    "'''\n",
    "def clean_and_tag(paragraph):\n",
    "    # cleaning\n",
    "    para = re.sub(r'[^a-zA-Z0-9 .-]','',paragraph)\n",
    "    #dictionary for all sentences\n",
    "    tags_dict_sentences = defaultdict(list)\n",
    "    for sentence in sent_tokenize(para):\n",
    "        # tagging each word in the current sentence and creating a dictionary out of em\n",
    "        # actually it's enough just to care about 'NNP' and 'NN'\n",
    "        temp_tags = pos_tag(word_tokenize(sentence))\n",
    "        tags_dict = defaultdict(list)\n",
    "        tags_dict_sentences[sentence] = tags_dict\n",
    "        for i in ((temp_tags)):\n",
    "            tags_dict[i[1]].append(i[0])\n",
    "    return tags_dict_sentences"
   ]
  },
  {
   "cell_type": "code",
   "execution_count": 3,
   "metadata": {},
   "outputs": [],
   "source": [
    "'''\n",
    "function to replace a word with a blank\n",
    "'''\n",
    "def replaceblank(word, sentence):\n",
    "    #uses regex to replace a word with a blank\n",
    "    temp = re.compile(re.escape(word), re.IGNORECASE)\n",
    "    return temp.sub('________________', sentence)"
   ]
  },
  {
   "cell_type": "code",
   "execution_count": 4,
   "metadata": {},
   "outputs": [],
   "source": [
    "'''\n",
    "function to basically remove a word and replace it with a blank if possible\n",
    "As most of the geography, history, science books revolve around nouns, most fill in \n",
    "the blanks are nouns.\n",
    "if you want to teach children english, you can pick adjectives or verbs as well\n",
    "'''\n",
    "def removeWord(sentence, tags_dict):\n",
    "    #select only nouns\n",
    "    words = None\n",
    "    if 'NNP' in tags_dict:\n",
    "        words = tags_dict['NNP']\n",
    "    elif 'NN' in tags_dict:\n",
    "        words = tags_dict['NN']\n",
    "    else:\n",
    "        print(\"NN and NNP not found\")\n",
    "        return (None, sentence, None)\n",
    "    if len(words) > 0:\n",
    "        # randomly choose a word, if there is a score of NNP, we can choose the \n",
    "        # best word with that\n",
    "        word = random.choice(words)\n",
    "        replaced = replaceblank(word, sentence)\n",
    "        return (word, sentence, replaced)\n",
    "    else:\n",
    "        print(\"words are empty\")\n",
    "        return (None, sentence, None)"
   ]
  },
  {
   "cell_type": "code",
   "execution_count": 5,
   "metadata": {},
   "outputs": [],
   "source": [
    "'''\n",
    "function which combines everything and generates blanks\n",
    "\n",
    "inputs are paragraph = paragraph(s)  you want to generate blanks from\n",
    "num_of_blanks = number of blanks you want to create\n",
    "\n",
    "right now, the function works only to create blanks upto a limit. when\n",
    "number of blanks to be created are more than total sentences, we have to create \n",
    "multiple blanks from same sentence, so answers can be deduced easily. where as\n",
    "if you don't care about that, we can extend the code a little and get that too\n",
    "\n",
    "output is an array\n",
    "each entry in the array is an array again, whose 1st element is the blank and\n",
    "2nd element is the missing word\n",
    "'''\n",
    "def create_blanks(paragraph,num_of_blanks):\n",
    "    # retrieve sentences whose words are tagged\n",
    "    tags_dict_sentences = clean_and_tag(paragraph) # a dictionary\n",
    "    # these many blanks are possible, as they can't be more than number of sentences\n",
    "    possib_blanks = len(list(tags_dict_sentences.keys()))\n",
    "    if possib_blanks> num_of_blanks:\n",
    "        # randomly shuffle the sentences\n",
    "        rand_sents = (list(tags_dict_sentences.keys()))\n",
    "        random.shuffle(rand_sents)\n",
    "        \n",
    "        #store the blanks in an array\n",
    "        blanks_arr = []\n",
    "        \n",
    "        # number of prepared blanks and dummy variable to iterate through rand_sents\n",
    "        prepared_blanks = 0\n",
    "        i = 0\n",
    "        while prepared_blanks<num_of_blanks and (i<len(rand_sents)):\n",
    "            curr_sent_tags = tags_dict_sentences[rand_sents[i]]\n",
    "            (word, sentence, replaced) = removeWord(rand_sents[i], tags_dict_sentences[rand_sents[i]])\n",
    "            if replaced is not None:\n",
    "                blanks_arr.append([replaced,word])\n",
    "                i+=1\n",
    "                prepared_blanks+=1\n",
    "            else:\n",
    "                i+=1\n",
    "        if prepared_blanks<num_of_blanks:\n",
    "            print(\"sorry, couldn't form more than {} blanks\".format(prepared_blanks))\n",
    "        return blanks_arr\n",
    "    # the same as above but asking for input\n",
    "    else:\n",
    "        try:\n",
    "            num_of_blanks  = int(input('''number of blanks you want to create are more\n",
    "            than number of sentences, please give a number less than {}.  \n",
    "            if you want to quit, just press any key other than integer and enter\\n'''.format(\n",
    "            possib_blanks)))\n",
    "            if num_of_blanks<possib_blanks:\n",
    "                flag = 0\n",
    "                rand_sents = (list(tags_dict_sentences.keys()))\n",
    "                random.shuffle(rand_sents)\n",
    "                blanks_arr = []\n",
    "                prepared_blanks = 0\n",
    "                i = 0\n",
    "                while prepared_blanks<num_of_blanks and (i<len(rand_sents)):\n",
    "                    curr_sent_tags = tags_dict_sentences[rand_sents[i]]\n",
    "                    (word, sentence, replaced) = removeWord(rand_sents[i], tags_dict_sentences[rand_sents[i]])\n",
    "                    if replaced is not None:\n",
    "                        blanks_arr.append([replaced,word])\n",
    "                        i+=1\n",
    "                        prepared_blanks+=1\n",
    "                    else:\n",
    "                        i+=1\n",
    "                if prepared_blanks<num_of_blanks:\n",
    "                    print(\"sorry, couldn't form more than {} blanks\".format(prepared_blanks))\n",
    "                return blanks_arr\n",
    "        except:\n",
    "            print('quittin :(')\n",
    "            return None\n",
    "        "
   ]
  },
  {
   "cell_type": "code",
   "execution_count": 6,
   "metadata": {},
   "outputs": [],
   "source": [
    "text = \"\"\"A Lion lay asleep in the forest, his great head resting on his paws. A timid little Mouse came upon him unexpectedly, and in her fright and haste to\n",
    "get away, ran across the Lion's nose. Roused from his nap, the Lion laid his huge paw angrily on the tiny creature to kill her.  \"Spare me!\" begged\n",
    "the poor Mouse. \"Please let me go and some day I will surely repay you.\"  The Lion was much amused to think that a Mouse could ever help him. But he\n",
    "was generous and finally let the Mouse go.  Some days later, while stalking his prey in the forest, the Lion was caught in the toils of a hunter's\n",
    "net. Unable to free himself, he filled the forest with his angry roaring. The Mouse knew the voice and quickly found the Lion struggling in the net.\n",
    "Running to one of the great ropes that bound him, she gnawed it until it parted, and soon the Lion was free.  \"You laughed when I said I would repay\n",
    "you,\" said the Mouse. \"Now you see that even a Mouse can help a Lion.\" \"\"\"\n",
    "file =None"
   ]
  },
  {
   "cell_type": "code",
   "execution_count": 7,
   "metadata": {},
   "outputs": [],
   "source": [
    "total = 5\n",
    "def createdblanks(text,total):\n",
    "    output=\"\"\n",
    "    \n",
    "    blanks = create_blanks(text,total)\n",
    "    \n",
    "    for blank in blanks:\n",
    "        output = output + \"<b style='color:black;'>Q )  \" + blank[0] + \"</b><br>\"\n",
    "        output = output + \"<b style='color:green;'>\" + \"Ans: \" +blank[1]+  \"</b>\"\n",
    "        output = output + \"<br>\"\n",
    "\n",
    "\n",
    "    # for blank in blanks:\n",
    "    #     print(blank[0])\n",
    "    #     print(\"Ans:\", blank[1], \"\\n\")\n",
    "    return output\n"
   ]
  },
  {
   "cell_type": "code",
   "execution_count": 8,
   "metadata": {},
   "outputs": [
    {
     "data": {
      "text/plain": [
       "\"<b style='color:black;'>Q )  A timid little ________________ came upon him unexpectedly and in her fright and haste toget away ran across the Lions nose.</b><br><b style='color:green;'>Ans: Mouse</b><br><b style='color:black;'>Q )  Roused from his nap the ________________ laid his huge paw angrily on the tiny creature to kill her.</b><br><b style='color:green;'>Ans: Lion</b><br><b style='color:black;'>Q )  But hewas generous and finally let the ________________ go.</b><br><b style='color:green;'>Ans: Mouse</b><br><b style='color:black;'>Q )  The ________________ was much amused to think that a Mouse could ever help him.</b><br><b style='color:green;'>Ans: Lion</b><br><b style='color:black;'>Q )  Some days later while stalking his prey in the forest the ________________ was caught in the toils of a huntersnet.</b><br><b style='color:green;'>Ans: Lion</b><br>\""
      ]
     },
     "execution_count": 8,
     "metadata": {},
     "output_type": "execute_result"
    }
   ],
   "source": [
    "createdblanks(text, 5)"
   ]
  },
  {
   "cell_type": "code",
   "execution_count": 9,
   "metadata": {},
   "outputs": [],
   "source": [
    "import gradio as gr\n",
    "\n",
    "context = gr.Textbox(lines=10, placeholder=\"Enter paragraph/content here...\", label=\"Text\")\n",
    "total = gr.Slider(1,10, value=1,step=1, label=\"Total Number Of Questions\")\n",
    "# file = gr.File(value=r\"D:\\Semester 7\\Final Year Project\\New folder\\new.txt\")\n",
    "\n",
    "output = gr.HTML( label=\"Question and Answers\")\n",
    "\n",
    "\n",
    "\n",
    "iface = gr.Interface(  \n",
    "  fn=createdblanks, \n",
    "  inputs=[context, total], \n",
    "  outputs=output, \n",
    "  css=\".gradio-container {background-image: url('file=blue.jpg')}\", title=\"Generate Fill-in-Blanks Within Seconds\",\n",
    "  allow_flagging=\"manual\",flagging_options=[\"Save Data\"])\n",
    "\n",
    "\n",
    "# iface.launch(debug=True, share=True)\n",
    "\n"
   ]
  },
  {
   "cell_type": "code",
   "execution_count": 10,
   "metadata": {},
   "outputs": [],
   "source": [
    "import glob\n",
    "import os.path\n",
    "import pandas as pd\n",
    "\n",
    "# folder_path = r'D:\\Semester 7\\Final Year Project\\New folder\\New folder\\flagged\\file'\n",
    "# file_type = r'\\*txt'\n",
    "# files = glob.glob(folder_path + file_type)\n",
    "# max_file = max(files, key=os.path.getctime)\n",
    "\n",
    "# # import_file = pd.read_csv(max_file).replace('\\n', \"\")\n",
    "# # print(import_file)\n",
    "\n",
    "# fp = open(max_file, 'r')\n",
    "# print(fp.read())"
   ]
  },
  {
   "cell_type": "code",
   "execution_count": 11,
   "metadata": {},
   "outputs": [],
   "source": [
    "total=5"
   ]
  },
  {
   "cell_type": "code",
   "execution_count": 12,
   "metadata": {},
   "outputs": [],
   "source": [
    "def filecreate(file,total):\n",
    "    folder_path = r'C:\\Users\\HP\\AppData\\Local\\Temp'\n",
    "    file_type = r'\\*txt'\n",
    "    files = glob.glob(folder_path + file_type)\n",
    "    max_file = max(files, key=os.path.getctime)\n",
    "\n",
    "# import_file = pd.read_csv(max_file).replace('\\n', \"\")\n",
    "# print(import_file)\n",
    "\n",
    "    fp = open(max_file, 'r')\n",
    "    text = fp.read()\n",
    "    print(text)\n",
    "    print(fp)\n",
    "    generated = createdblanks(text, total)\n",
    "    # return text\n",
    "    return generated\n"
   ]
  },
  {
   "cell_type": "code",
   "execution_count": 13,
   "metadata": {},
   "outputs": [
    {
     "name": "stdout",
     "output_type": "stream",
     "text": [
      "A Lion lay asleep in the forest, his great head resting on his paws. A timid little Mouse came upon him unexpectedly, and in her fright and haste to\n",
      "get away, ran across the Lion's nose. Roused from his nap, the Lion laid his huge paw angrily on the tiny creature to kill her.  \"Spare me!\" begged\n",
      "the poor Mouse. \"Please let me go and some day I will surely repay you.\"  The Lion was much amused to think that a Mouse could ever help him. But he\n",
      "was generous and finally let the Mouse go.  Some days later, while stalking his prey in the forest, the Lion was caught in the toils of a hunter's\n",
      "net. Unable to free himself, he filled the forest with his angry roaring. The Mouse knew the voice and quickly found the Lion struggling in the net.\n",
      "Running to one of the great ropes that bound him, she gnawed it until it parted, and soon the Lion was free.  \"You laughed when I said I would repay\n",
      "you,\" said the Mouse. \"Now you see that even a Mouse can help a Lion.\n",
      "<_io.TextIOWrapper name='C:\\\\Users\\\\HP\\\\AppData\\\\Local\\\\Temp\\\\file19skhrf2i.txt' mode='r' encoding='UTF-8'>\n"
     ]
    },
    {
     "data": {
      "text/plain": [
       "\"<b style='color:black;'>Q )  A timid little Mouse came upon him unexpectedly and in her fright and haste toget away ran across the ________________ nose.</b><br><b style='color:green;'>Ans: Lions</b><br><b style='color:black;'>Q )  The ________________ knew the voice and quickly found the Lion struggling in the net.Running to one of the great ropes that bound him she gnawed it until it parted and soon the Lion was free.</b><br><b style='color:green;'>Ans: Mouse</b><br>\""
      ]
     },
     "execution_count": 13,
     "metadata": {},
     "output_type": "execute_result"
    }
   ],
   "source": [
    "filecreate(file,2)"
   ]
  },
  {
   "cell_type": "code",
   "execution_count": 14,
   "metadata": {},
   "outputs": [],
   "source": [
    "import gradio as gr\n",
    "\n",
    "context = gr.HTML(label=\"Text\")\n",
    "file = gr.File()\n",
    "total = gr.Slider(1,10, value=1,step=1, label=\"Total Number Of Questions\")\n",
    "\n",
    "\n",
    "# output = gr.HTML( label=\"Question and Answers\")\n",
    "\n",
    "\n",
    "\n",
    "fface = gr.Interface(  \n",
    "  fn=filecreate, \n",
    "  inputs=[file,total], \n",
    "  outputs=context, \n",
    "  css=\".gradio-container {background-image: url('file=blue.jpg')}\", title=\"Generate Fill-in-Blanks Within Seconds\",\n",
    "  allow_flagging=\"manual\",flagging_options=[\"Save Data\"])\n",
    "\n",
    "\n",
    "# fface.launch(debug=True, share=True)\n",
    "\n"
   ]
  },
  {
   "cell_type": "code",
   "execution_count": 15,
   "metadata": {},
   "outputs": [
    {
     "name": "stderr",
     "output_type": "stream",
     "text": [
      "c:\\Users\\HP\\anaconda3\\lib\\site-packages\\gradio\\blocks.py:726: UserWarning: api_name predict already exists, using predict_1\n",
      "  warnings.warn(\n"
     ]
    },
    {
     "name": "stdout",
     "output_type": "stream",
     "text": [
      "Running on local URL:  http://127.0.0.1:7860\n",
      "\n",
      "Could not create share link, please check your internet connection.\n"
     ]
    },
    {
     "data": {
      "text/html": [
       "<div><iframe src=\"http://127.0.0.1:7860/\" width=\"100%\" height=\"500\" allow=\"autoplay; camera; microphone; clipboard-read; clipboard-write;\" frameborder=\"0\" allowfullscreen></iframe></div>"
      ],
      "text/plain": [
       "<IPython.core.display.HTML object>"
      ]
     },
     "metadata": {},
     "output_type": "display_data"
    },
    {
     "name": "stdout",
     "output_type": "stream",
     "text": [
      "quittin :(\n"
     ]
    },
    {
     "name": "stderr",
     "output_type": "stream",
     "text": [
      "Traceback (most recent call last):\n",
      "  File \"c:\\Users\\HP\\anaconda3\\lib\\site-packages\\gradio\\routes.py\", line 321, in run_predict\n",
      "    output = await app.blocks.process_api(\n",
      "  File \"c:\\Users\\HP\\anaconda3\\lib\\site-packages\\gradio\\blocks.py\", line 1015, in process_api\n",
      "    result = await self.call_function(fn_index, inputs, iterator, request)\n",
      "  File \"c:\\Users\\HP\\anaconda3\\lib\\site-packages\\gradio\\blocks.py\", line 856, in call_function\n",
      "    prediction = await anyio.to_thread.run_sync(\n",
      "  File \"c:\\Users\\HP\\anaconda3\\lib\\site-packages\\anyio\\to_thread.py\", line 28, in run_sync\n",
      "    return await get_asynclib().run_sync_in_worker_thread(func, *args, cancellable=cancellable,\n",
      "  File \"c:\\Users\\HP\\anaconda3\\lib\\site-packages\\anyio\\_backends\\_asyncio.py\", line 818, in run_sync_in_worker_thread\n",
      "    return await future\n",
      "  File \"c:\\Users\\HP\\anaconda3\\lib\\site-packages\\anyio\\_backends\\_asyncio.py\", line 754, in run\n",
      "    result = context.run(func, *args)\n",
      "  File \"C:\\Users\\HP\\AppData\\Local\\Temp\\ipykernel_4580\\1884173078.py\", line 7, in createdblanks\n",
      "    for blank in blanks:\n",
      "TypeError: 'NoneType' object is not iterable\n"
     ]
    },
    {
     "name": "stdout",
     "output_type": "stream",
     "text": [
      "quittin :(\n"
     ]
    },
    {
     "name": "stderr",
     "output_type": "stream",
     "text": [
      "Traceback (most recent call last):\n",
      "  File \"c:\\Users\\HP\\anaconda3\\lib\\site-packages\\gradio\\routes.py\", line 321, in run_predict\n",
      "    output = await app.blocks.process_api(\n",
      "  File \"c:\\Users\\HP\\anaconda3\\lib\\site-packages\\gradio\\blocks.py\", line 1015, in process_api\n",
      "    result = await self.call_function(fn_index, inputs, iterator, request)\n",
      "  File \"c:\\Users\\HP\\anaconda3\\lib\\site-packages\\gradio\\blocks.py\", line 856, in call_function\n",
      "    prediction = await anyio.to_thread.run_sync(\n",
      "  File \"c:\\Users\\HP\\anaconda3\\lib\\site-packages\\anyio\\to_thread.py\", line 28, in run_sync\n",
      "    return await get_asynclib().run_sync_in_worker_thread(func, *args, cancellable=cancellable,\n",
      "  File \"c:\\Users\\HP\\anaconda3\\lib\\site-packages\\anyio\\_backends\\_asyncio.py\", line 818, in run_sync_in_worker_thread\n",
      "    return await future\n",
      "  File \"c:\\Users\\HP\\anaconda3\\lib\\site-packages\\anyio\\_backends\\_asyncio.py\", line 754, in run\n",
      "    result = context.run(func, *args)\n",
      "  File \"C:\\Users\\HP\\AppData\\Local\\Temp\\ipykernel_4580\\1884173078.py\", line 7, in createdblanks\n",
      "    for blank in blanks:\n",
      "TypeError: 'NoneType' object is not iterable\n"
     ]
    }
   ],
   "source": [
    "demo = gr.TabbedInterface([iface, fface], [\"Text\", \"Upload File\"])\n",
    "demo.launch(debug=True, share=True)\n"
   ]
  },
  {
   "cell_type": "code",
   "execution_count": null,
   "metadata": {},
   "outputs": [
    {
     "name": "stdout",
     "output_type": "stream",
     "text": [
      "Running on local URL:  http://127.0.0.1:7866\n",
      "\n",
      "Could not create share link, please check your internet connection.\n"
     ]
    },
    {
     "data": {
      "text/html": [
       "<div><iframe src=\"http://127.0.0.1:7866/\" width=\"100%\" height=\"500\" allow=\"autoplay; camera; microphone; clipboard-read; clipboard-write;\" frameborder=\"0\" allowfullscreen></iframe></div>"
      ],
      "text/plain": [
       "<IPython.core.display.HTML object>"
      ]
     },
     "metadata": {},
     "output_type": "display_data"
    },
    {
     "name": "stdout",
     "output_type": "stream",
     "text": [
      "<tempfile._TemporaryFileWrapper object at 0x000002A1CCFE13A0>\n"
     ]
    },
    {
     "name": "stderr",
     "output_type": "stream",
     "text": [
      "Traceback (most recent call last):\n",
      "  File \"c:\\Users\\HP\\anaconda3\\lib\\site-packages\\gradio\\routes.py\", line 321, in run_predict\n",
      "    output = await app.blocks.process_api(\n",
      "  File \"c:\\Users\\HP\\anaconda3\\lib\\site-packages\\gradio\\blocks.py\", line 1015, in process_api\n",
      "    result = await self.call_function(fn_index, inputs, iterator, request)\n",
      "  File \"c:\\Users\\HP\\anaconda3\\lib\\site-packages\\gradio\\blocks.py\", line 856, in call_function\n",
      "    prediction = await anyio.to_thread.run_sync(\n",
      "  File \"c:\\Users\\HP\\anaconda3\\lib\\site-packages\\anyio\\to_thread.py\", line 28, in run_sync\n",
      "    return await get_asynclib().run_sync_in_worker_thread(func, *args, cancellable=cancellable,\n",
      "  File \"c:\\Users\\HP\\anaconda3\\lib\\site-packages\\anyio\\_backends\\_asyncio.py\", line 818, in run_sync_in_worker_thread\n",
      "    return await future\n",
      "  File \"c:\\Users\\HP\\anaconda3\\lib\\site-packages\\anyio\\_backends\\_asyncio.py\", line 754, in run\n",
      "    result = context.run(func, *args)\n",
      "  File \"C:\\Users\\HP\\AppData\\Local\\Temp\\ipykernel_13532\\388769804.py\", line 12, in getfile\n",
      "    text = fp.read()\n",
      "AttributeError: 'bytes' object has no attribute 'read'\n"
     ]
    },
    {
     "name": "stdout",
     "output_type": "stream",
     "text": [
      "Keyboard interruption in main thread... closing server.\n"
     ]
    },
    {
     "data": {
      "text/plain": []
     },
     "execution_count": 212,
     "metadata": {},
     "output_type": "execute_result"
    }
   ],
   "source": [
    "# import gradio as gr\n",
    "# import csv, io, tempfile\n",
    "\n",
    "\n",
    "# def getfile(file):\n",
    "\n",
    "\n",
    "#   filename = tempfile.NamedTemporaryFile()\n",
    "#   print(filename)\n",
    "  \n",
    "#   fp = filename.read()\n",
    "#   text = fp.read()\n",
    "#   print(text)\n",
    "#   return text\n",
    "#   # files = glob.glob(file)\n",
    "#   # max_file = max(files, key=os.path.getctime)  \n",
    "#   # return max_file\n",
    "\n",
    "# context = gr.Textbox(label=\"Text\")\n",
    "# file = gr.File()\n",
    "\n",
    "\n",
    "# # output = gr.HTML( label=\"Question and Answers\")\n",
    "\n",
    "\n",
    "\n",
    "# gface = gr.Interface(  \n",
    "#   fn=getfile, \n",
    "#   inputs=[file], \n",
    "#   outputs=context,\n",
    "#   css=\".gradio-container {background-image: url('file=blue.jpg')}\", title=\"Generate Fill-in-Blanks Within Seconds\",\n",
    "#   allow_flagging=\"manual\",flagging_options=[\"Save Data\"])\n",
    "\n",
    "\n",
    "# gface.launch(debug=True, share=True)\n",
    "\n"
   ]
  }
 ],
 "metadata": {
  "kernelspec": {
   "display_name": "base",
   "language": "python",
   "name": "python3"
  },
  "language_info": {
   "codemirror_mode": {
    "name": "ipython",
    "version": 3
   },
   "file_extension": ".py",
   "mimetype": "text/x-python",
   "name": "python",
   "nbconvert_exporter": "python",
   "pygments_lexer": "ipython3",
   "version": "3.9.12"
  },
  "orig_nbformat": 4,
  "vscode": {
   "interpreter": {
    "hash": "dc07d24e2f18896857f0b2a651fe84ba40ce7b297e58d8804a308c8039f752a6"
   }
  }
 },
 "nbformat": 4,
 "nbformat_minor": 2
}
